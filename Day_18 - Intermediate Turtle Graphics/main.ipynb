{
 "cells": [
  {
   "cell_type": "code",
   "execution_count": 43,
   "metadata": {},
   "outputs": [],
   "source": [
    "import random\n",
    "import turtle\n",
    "from turtle import Turtle, Screen"
   ]
  },
  {
   "attachments": {},
   "cell_type": "markdown",
   "metadata": {},
   "source": [
    "## Task 1 - Draw a square"
   ]
  },
  {
   "cell_type": "code",
   "execution_count": 44,
   "metadata": {},
   "outputs": [],
   "source": [
    "tim = Turtle()\n",
    "screen = Screen()\n",
    "screen.reset()\n",
    "\n",
    "tim.shape('turtle')\n",
    "\n",
    "for n in range(4):\n",
    "    tim.forward(100)\n",
    "    tim.right(90)"
   ]
  },
  {
   "attachments": {},
   "cell_type": "markdown",
   "metadata": {},
   "source": [
    "## Task 2 - Draw a Dashed Line 10 paces + 10 gaps"
   ]
  },
  {
   "cell_type": "code",
   "execution_count": 45,
   "metadata": {},
   "outputs": [],
   "source": [
    "screen.reset()\n",
    "tim.color(\"blue\")\n",
    "tim.shape('arrow')\n",
    "for _ in range(10):\n",
    "    tim.forward(10)\n",
    "    tim.penup()\n",
    "    tim.forward(10)\n",
    "    tim.pendown()"
   ]
  },
  {
   "attachments": {},
   "cell_type": "markdown",
   "metadata": {},
   "source": [
    "## Task 3 - Draw different shapes\n",
    "Draw a triangle, square, pentagon, hexagon, heptagon, octagon, nonagon and decagon in sequence with different random color. Each of the sides are going to be 100 in term of lenght. All of the shapes are overlaid on each other and drown out in sequence.\n",
    "\n",
    "Hint: each of the polymer has different angle degrees."
   ]
  },
  {
   "cell_type": "code",
   "execution_count": 46,
   "metadata": {},
   "outputs": [],
   "source": [
    "screen.reset()\n",
    "\n",
    "def change_color():\n",
    "    R = random.random()\n",
    "    B = random.random()\n",
    "    G = random.random()\n",
    "\n",
    "    tim.color(R, G, B)\n",
    "\n",
    "circle = 360\n",
    "sides = 3\n",
    "\n",
    "while sides < 11:\n",
    "    \n",
    "    change_color()\n",
    "    for n in range(sides):\n",
    "        tim.forward(100)\n",
    "        tim.right(circle/sides)\n",
    "    \n",
    "    sides += 1"
   ]
  },
  {
   "attachments": {},
   "cell_type": "markdown",
   "metadata": {},
   "source": [
    "## Task 4 - Generate a random walk \n",
    "\n",
    "Use random colors and get a bit of thickness. "
   ]
  },
  {
   "cell_type": "code",
   "execution_count": 47,
   "metadata": {},
   "outputs": [],
   "source": [
    "screen.reset()\n",
    "tim.speed(5)\n",
    "\n",
    "number = 100\n",
    "angle_of_turning = list(n * 90 for n in range(0,4))\n",
    "step_len = list(n for n in range(20, 50))\n",
    "\n",
    "while number > 2:\n",
    "    number -= 1\n",
    "    tim.pensize(10)\n",
    "    change_color()\n",
    "    tim.right(random.choice(angle_of_turning))\n",
    "    tim.fd(random.choice(step_len))"
   ]
  },
  {
   "attachments": {},
   "cell_type": "markdown",
   "metadata": {},
   "source": [
    "## Task 5 - Draw a Spirograph \n",
    "Each circle has a radius of 100 in distance with random colors. Change the tilt of the circle each time. "
   ]
  },
  {
   "cell_type": "code",
   "execution_count": 48,
   "metadata": {},
   "outputs": [],
   "source": [
    "screen.reset()\n",
    "turtle.colormode(255)\n",
    "tim.speed(\"fastest\")\n",
    "\n",
    "\n",
    "def random_color():\n",
    "\n",
    "    r = random.randint(0, 255)\n",
    "    g = random.randint(0, 255)\n",
    "    b = random.randint(0, 255)\n",
    "    change_color = (r, g, b)\n",
    "\n",
    "    return change_color\n",
    "\n",
    "def draw_spirograph(size_of_gap):\n",
    "\n",
    "    for n in range(int(360/size_of_gap)):\n",
    "\n",
    "        tim.color(random_color())\n",
    "        tim.circle(120)\n",
    "        tim.setheading(tim.heading() + size_of_gap)\n",
    "\n",
    "\n",
    "draw_spirograph(5)"
   ]
  },
  {
   "cell_type": "code",
   "execution_count": 49,
   "metadata": {},
   "outputs": [],
   "source": [
    "screen = Screen()\n",
    "screen.exitonclick()"
   ]
  }
 ],
 "metadata": {
  "kernelspec": {
   "display_name": "base",
   "language": "python",
   "name": "python3"
  },
  "language_info": {
   "codemirror_mode": {
    "name": "ipython",
    "version": 3
   },
   "file_extension": ".py",
   "mimetype": "text/x-python",
   "name": "python",
   "nbconvert_exporter": "python",
   "pygments_lexer": "ipython3",
   "version": "3.9.13"
  },
  "orig_nbformat": 4,
  "vscode": {
   "interpreter": {
    "hash": "69d74384aa76d343bb359f062cb72694a1a85a4dab3a55db2bb23019c1d352ec"
   }
  }
 },
 "nbformat": 4,
 "nbformat_minor": 2
}
