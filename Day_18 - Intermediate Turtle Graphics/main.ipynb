{
 "cells": [
  {
   "cell_type": "code",
   "execution_count": null,
   "metadata": {},
   "outputs": [],
   "source": [
    "import random\n",
    "import turtle\n",
    "from turtle import Turtle, Screen"
   ]
  },
  {
   "attachments": {},
   "cell_type": "markdown",
   "metadata": {},
   "source": [
    "## Task 1 - Draw a square"
   ]
  },
  {
   "cell_type": "code",
   "execution_count": null,
   "metadata": {},
   "outputs": [],
   "source": [
    "tim = Turtle()\n",
    "screen = Screen()\n",
    "screen.reset()\n",
    "\n",
    "tim.shape('turtle')\n",
    "\n",
    "for n in range(4):\n",
    "    tim.forward(100)\n",
    "    tim.right(90)"
   ]
  },
  {
   "attachments": {},
   "cell_type": "markdown",
   "metadata": {},
   "source": [
    "## Task 2 - Draw a Dashed Line 10 paces + 10 gaps"
   ]
  },
  {
   "cell_type": "code",
   "execution_count": null,
   "metadata": {},
   "outputs": [],
   "source": [
    "screen.reset()\n",
    "tim.color(\"blue\")\n",
    "tim.shape('arrow')\n",
    "for _ in range(10):\n",
    "    tim.forward(10)\n",
    "    tim.penup()\n",
    "    tim.forward(10)\n",
    "    tim.pendown()"
   ]
  },
  {
   "attachments": {},
   "cell_type": "markdown",
   "metadata": {},
   "source": [
    "## Task 3 - Draw different shapes\n",
    "Draw a triangle, square, pentagon, hexagon, heptagon, octagon, nonagon and decagon in sequence with different random color. Each of the sides are going to be 100 in term of lenght. All of the shapes are overlaid on each other and drown out in sequence.\n",
    "\n",
    "Hint: each of the polymer has different angle degrees."
   ]
  },
  {
   "cell_type": "code",
   "execution_count": null,
   "metadata": {},
   "outputs": [],
   "source": [
    "screen.reset()\n",
    "\n",
    "def change_color():\n",
    "    R = random.random()\n",
    "    B = random.random()\n",
    "    G = random.random()\n",
    "\n",
    "    tim.color(R, G, B)\n",
    "\n",
    "circle = 360\n",
    "sides = 3\n",
    "\n",
    "while sides < 11:\n",
    "    \n",
    "    change_color()\n",
    "    for n in range(sides):\n",
    "        tim.forward(100)\n",
    "        tim.right(circle/sides)\n",
    "    \n",
    "    sides += 1"
   ]
  },
  {
   "attachments": {},
   "cell_type": "markdown",
   "metadata": {},
   "source": [
    "## Task 4 - Generate a random walk \n",
    "\n",
    "Use random colors and get a bit of thickness. "
   ]
  },
  {
   "cell_type": "code",
   "execution_count": null,
   "metadata": {},
   "outputs": [],
   "source": [
    "screen.reset()\n",
    "tim.speed(5)\n",
    "\n",
    "number = 100\n",
    "angle_of_turning = list(n * 90 for n in range(0,4))\n",
    "step_len = list(n for n in range(20, 50))\n",
    "\n",
    "while number > 2:\n",
    "    number -= 1\n",
    "    tim.pensize(10)\n",
    "    change_color()\n",
    "    tim.right(random.choice(angle_of_turning))\n",
    "    tim.fd(random.choice(step_len))"
   ]
  },
  {
   "attachments": {},
   "cell_type": "markdown",
   "metadata": {},
   "source": [
    "## Task 5 - Draw a Spirograph \n",
    "Each circle has a radius of 100 in distance with random colors. Change the tilt of the circle each time. "
   ]
  },
  {
   "cell_type": "code",
   "execution_count": null,
   "metadata": {},
   "outputs": [],
   "source": [
    "screen.reset()\n",
    "turtle.colormode(255)\n",
    "tim.speed(\"fastest\")\n",
    "\n",
    "\n",
    "def random_color():\n",
    "\n",
    "    r = random.randint(0, 255)\n",
    "    g = random.randint(0, 255)\n",
    "    b = random.randint(0, 255)\n",
    "    change_color = (r, g, b)\n",
    "\n",
    "    return change_color\n",
    "\n",
    "def draw_spirograph(size_of_gap):\n",
    "\n",
    "    for n in range(int(360/size_of_gap)):\n",
    "\n",
    "        tim.color(random_color())\n",
    "        tim.circle(120)\n",
    "        tim.setheading(tim.heading() + size_of_gap)\n",
    "\n",
    "\n",
    "draw_spirograph(5)"
   ]
  },
  {
   "cell_type": "code",
   "execution_count": null,
   "metadata": {},
   "outputs": [],
   "source": [
    "screen = Screen()\n",
    "screen.exitonclick()"
   ]
  },
  {
   "cell_type": "code",
   "execution_count": null,
   "metadata": {},
   "outputs": [],
   "source": [
    "color_list = [(26, 108, 164), (193, 38, 81), (237, 161, 50), (234, 215, 86), (223, 137, 176), (143, 108, 57),\n",
    "              (103, 197, 219), (21, 57, 132), (205, 166, 30), (213, 74, 91), (238, 89, 49), (142, 208, 227),\n",
    "              (119, 191, 139), (5, 185, 177), (106, 108, 198), (137, 29, 72), (4, 162, 86), (98, 51, 36),\n",
    "              (24, 155, 210), (229, 168, 185), (173, 185, 221), (29, 90, 95), (233, 173, 162), (156, 212, 190),\n",
    "              (87, 46, 33), (37, 45, 83), (245, 205, 7), (35, 88, 88), (103, 24, 56)]\n",
    "\n",
    "screen = Screen()\n",
    "turtle.colormode(255)\n",
    "tim = Turtle()\n",
    "tim.shape(\"circle\")\n",
    "tim.penup()\n",
    "tim.speed(\"fastest\")\n",
    "\n",
    "\n",
    "tim.ht()\n",
    "tim.seth(225)\n",
    "tim.forward(300)\n",
    "tim.showturtle()\n",
    "tim.seth(0)\n",
    "tim.color(random.choice(color_list))\n",
    "\n",
    "number_of_dots = 100\n",
    "\n",
    "for dot_count in range(1, number_of_dots + 1):\n",
    "    tim.dot(20, random.choice(color_list))\n",
    "    tim.forward(50)\n",
    "\n",
    "    if dot_count % 10 == 0:\n",
    "        tim.setheading(90)\n",
    "        tim.forward(50)\n",
    "        tim.setheading(180)\n",
    "        tim.forward(500)\n",
    "        tim.setheading(0)\n",
    "\n",
    "tim.hideturtle()\n",
    "screen.exitonclick()"
   ]
  }
 ],
 "metadata": {
  "kernelspec": {
   "display_name": "base",
   "language": "python",
   "name": "python3"
  },
  "language_info": {
   "codemirror_mode": {
    "name": "ipython",
    "version": 3
   },
   "file_extension": ".py",
   "mimetype": "text/x-python",
   "name": "python",
   "nbconvert_exporter": "python",
   "pygments_lexer": "ipython3",
   "version": "3.9.13"
  },
  "orig_nbformat": 4,
  "vscode": {
   "interpreter": {
    "hash": "69d74384aa76d343bb359f062cb72694a1a85a4dab3a55db2bb23019c1d352ec"
   }
  }
 },
 "nbformat": 4,
 "nbformat_minor": 2
}
