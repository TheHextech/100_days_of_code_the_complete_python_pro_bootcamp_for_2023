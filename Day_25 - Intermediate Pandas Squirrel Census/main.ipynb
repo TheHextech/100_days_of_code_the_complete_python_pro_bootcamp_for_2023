{
 "cells": [
  {
   "cell_type": "code",
   "execution_count": 1,
   "metadata": {},
   "outputs": [],
   "source": [
    "import pandas"
   ]
  },
  {
   "cell_type": "code",
   "execution_count": 15,
   "metadata": {},
   "outputs": [],
   "source": [
    "data = pandas.read_csv(\"2018_Central_Park_Squirrel_Census_-_Squirrel_Data.csv\")\n",
    "\n",
    "GRAY, CINNAMON, BLACK = \"Gray\", \"Cinnamon\", \"Black\"\n",
    "\n",
    "# Filter to get only records with Primary Fur Color == GRAY or CINNAMON or BLACK\n",
    "filter = data['Primary Fur Color'].isin([GRAY, CINNAMON, BLACK])\n",
    "\n",
    "# Get data exploiting the filter and count the members\n",
    "target_df = data.loc[filter].groupby('Primary Fur Color')['Unique Squirrel ID'].count().sort_values(ascending=False).reset_index()\n",
    "target_df.rename(columns={'Primary Fur Color':'Fur color', 'Unique Squirrel ID': 'Number of individuals'}, inplace=True)\n",
    "target_df\n",
    "target_df.to_csv('squirrel_counts_by_colors.csv')"
   ]
  }
 ],
 "metadata": {
  "kernelspec": {
   "display_name": "base",
   "language": "python",
   "name": "python3"
  },
  "language_info": {
   "codemirror_mode": {
    "name": "ipython",
    "version": 3
   },
   "file_extension": ".py",
   "mimetype": "text/x-python",
   "name": "python",
   "nbconvert_exporter": "python",
   "pygments_lexer": "ipython3",
   "version": "3.9.13"
  },
  "orig_nbformat": 4,
  "vscode": {
   "interpreter": {
    "hash": "69d74384aa76d343bb359f062cb72694a1a85a4dab3a55db2bb23019c1d352ec"
   }
  }
 },
 "nbformat": 4,
 "nbformat_minor": 2
}
